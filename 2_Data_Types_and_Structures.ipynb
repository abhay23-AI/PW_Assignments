{
 "cells": [
  {
   "cell_type": "markdown",
   "metadata": {},
   "source": [
    "1. What are data structures, and why are they important.\n"
   ]
  },
  {
   "cell_type": "markdown",
   "metadata": {},
   "source": [
    " Data structures are specific ways of organizing and storing data in a computer so that it can be accessed and modified efficiently.\n",
    " They are essential because they help solve problems related to data storage, retrieval, and manipulation in an optimized manner, reducing complexity and increasing performance. Common data structures include arrays, linked lists, stacks, queues, trees, graphs, sets, and dictionaries. Choosing the appropriate data structure depends on the problem's requirements, such as speed, memory usage, and ease of access."
   ]
  },
  {
   "cell_type": "markdown",
   "metadata": {},
   "source": [
    "2. Explain the difference between mutable and immutable data types with examples."
   ]
  },
  {
   "cell_type": "markdown",
   "metadata": {},
   "source": [
    " - **Mutable data types**: These types can be changed after they are created. For example, lists, dictionaries, and sets are mutable, meaning you can modify their content after creation. Example:  "
   ]
  },
  {
   "cell_type": "code",
   "execution_count": 29,
   "metadata": {},
   "outputs": [],
   "source": [
    "my_list = [1, 2, 3]\n",
    "my_list[0] = 100 "
   ]
  },
  {
   "cell_type": "markdown",
   "metadata": {},
   "source": [
    "  - **Immutable data types**: These types cannot be changed after they are created. For example, strings, tuples, and integers are immutable. Once created, the content of a string or tuple cannot be modified. Example:"
   ]
  },
  {
   "cell_type": "code",
   "execution_count": null,
   "metadata": {},
   "outputs": [],
   "source": [
    "my_string = \"Hello\"\n",
    "my_string[0] = \"J\""
   ]
  },
  {
   "cell_type": "markdown",
   "metadata": {},
   "source": [
    "3. What are the main differences between lists and tuples in Python."
   ]
  },
  {
   "cell_type": "markdown",
   "metadata": {},
   "source": [
    "   - **Mutability**: Lists are mutable, meaning you can modify their elements, add new elements, or remove existing ones. Tuples, on the other hand, are immutable, so once they are created, their contents cannot be changed.\n",
    "   - **Syntax**: Lists are defined using square brackets [], while tuples are defined using parentheses ().\n",
    "   - **Performance**: Tuples are generally faster than lists because they are immutable, and Python can optimize their memory usage. Lists use more memory because they allow modification.\n",
    "   - **Use case**: Lists are used when you need a collection of items that might change. Tuples are used when you need a collection of items that should remain constant."
   ]
  },
  {
   "cell_type": "code",
   "execution_count": 28,
   "metadata": {},
   "outputs": [],
   "source": [
    "my_list = [1, 2, 3]  # Mutable\n",
    "my_tuple = (1, 2, 3)  # Immutable"
   ]
  },
  {
   "cell_type": "markdown",
   "metadata": {},
   "source": [
    "4. Describe how dictionaries store data."
   ]
  },
  {
   "cell_type": "markdown",
   "metadata": {},
   "source": [
    "    \n",
    "Dictionaries in Python store data as key-value pairs. Each key is unique, and it is associated with a value. You can access the value by using the key. Internally, dictionaries use a hash table for fast lookups, making them efficient for searching, adding, and deleting elements. "
   ]
  },
  {
   "cell_type": "markdown",
   "metadata": {},
   "source": [
    "5. Why might you use a set instead of a list in Python."
   ]
  },
  {
   "cell_type": "markdown",
   "metadata": {},
   "source": [
    "Sets are used when you need a collection of unique elements, and you don't care about the order. The main advantages of using sets over lists are:\n",
    "\n",
    "- **Uniqueness**: Sets automatically remove duplicate values, ensuring that only unique elements are stored.\n",
    "\n",
    "- **Efficiency**: Sets provide faster membership testing (i.e., checking whether an element is in the set) compared to lists.\n",
    "\n",
    "- **No duplicates**: Unlike lists, you don't need to manually check for duplicates when adding items."
   ]
  },
  {
   "cell_type": "markdown",
   "metadata": {},
   "source": [
    "6. What is a string in Python, and how is it different from a list."
   ]
  },
  {
   "cell_type": "markdown",
   "metadata": {},
   "source": [
    "A string in Python is a sequence of characters enclosed in quotes (single or double). It is used to represent textual data. Strings are immutable, meaning once a string is created, its content cannot be modified.\n",
    "\n",
    "Difference from lists:\n",
    "- **Immutability**: Strings are immutable, while lists are mutable.\n",
    "- **Element type**: A string can only contain characters, whereas a list can contain items of any type, including other lists, integers, strings, etc.\n",
    "- **Modification**: You cannot change a specific character in a string, but you can change the elements of a list.\n",
    "\n"
   ]
  },
  {
   "cell_type": "markdown",
   "metadata": {},
   "source": [
    "7. How do tuples ensure data integrity in Python."
   ]
  },
  {
   "cell_type": "markdown",
   "metadata": {},
   "source": [
    " Tuples are immutable, meaning once a tuple is created, its content cannot be altered. This ensures data integrity by preventing accidental modification of the data. "
   ]
  },
  {
   "cell_type": "markdown",
   "metadata": {},
   "source": [
    "8. What is a hash table, and how does it relate to dictionaries in Python."
   ]
  },
  {
   "cell_type": "markdown",
   "metadata": {},
   "source": [
    "A hash table is a data structure that maps keys to values using a hash function. The key is hashed, and the result determines where the value will be stored in memory. This provides very fast access to values based on their keys. In Python, dictionaries are implemented using hash tables, allowing for efficient O(1) average time complexity for lookups, insertions, and deletions."
   ]
  },
  {
   "cell_type": "markdown",
   "metadata": {},
   "source": [
    "9. Can lists contain different data types in Python."
   ]
  },
  {
   "cell_type": "markdown",
   "metadata": {},
   "source": [
    "Yes, lists in Python can contain elements of different data types. A single list can hold integers, strings, floats, other lists, and even more complex objects. This flexibility is one of the reasons lists are widely used."
   ]
  },
  {
   "cell_type": "code",
   "execution_count": 30,
   "metadata": {},
   "outputs": [
    {
     "name": "stdout",
     "output_type": "stream",
     "text": [
      "[1, 'Hello', 3.14, [1, 2, 3], {'key': 'value'}]\n"
     ]
    }
   ],
   "source": [
    "my_list = [1, \"Hello\", 3.14, [1, 2, 3], {\"key\": \"value\"}]\n",
    "print(my_list)  \n"
   ]
  },
  {
   "cell_type": "markdown",
   "metadata": {},
   "source": [
    "10. Explain why strings are immutable in Python."
   ]
  },
  {
   "cell_type": "markdown",
   "metadata": {},
   "source": [
    "- **Memory optimization**: Immutable objects are easier to manage in terms of memory and caching. Multiple references to the same string do not need to copy the data, making string handling more memory-efficient.\n",
    "\n",
    "- **Performance**: Since strings are immutable, Python can optimize their storage and handling. For instance, Python can reuse strings that have already been created, reducing memory usage.\n",
    "\n",
    "- **Consistency and safety**: Immutability ensures that string values cannot be changed by accident, which makes them more reliable and prevents unexpected behavior in code."
   ]
  },
  {
   "cell_type": "markdown",
   "metadata": {},
   "source": [
    "11. What advantages do dictionaries offer over lists for certain tasks?"
   ]
  },
  {
   "cell_type": "markdown",
   "metadata": {},
   "source": [
    "- Fast lookups: Dictionary keys provide direct access to values, allowing for 'O(1)' average time complexity for lookups, while lists require O(n) time for searches.\n",
    "- Key-value pairs: Dictionaries store data as key-value pairs, which allows for more descriptive data organization. Lists, on the other hand, store data by index.\n",
    "- Flexibility in accessing values: You can use meaningful keys to access data, which makes dictionaries ideal for tasks where data needs to be mapped or categorized."
   ]
  },
  {
   "cell_type": "markdown",
   "metadata": {},
   "source": [
    "12. Describe a scenario where using a tuple would be preferable over a list."
   ]
  },
  {
   "cell_type": "markdown",
   "metadata": {},
   "source": [
    "A tuple would be preferable over a list when you have a collection of data that should remain unchanged, such as storing the coordinates of a point (x, y, z) or representing an RGB color code (255, 0, 0). Since tuples are immutable, they provide data integrity, ensuring the values cannot be accidentally altered."
   ]
  },
  {
   "cell_type": "markdown",
   "metadata": {},
   "source": [
    "13. How do sets handle duplicate values in Python?"
   ]
  },
  {
   "cell_type": "markdown",
   "metadata": {},
   "source": [
    "Sets automatically remove duplicates. If you try to add a duplicate element to a set, it will ignore it. This is because sets are designed to only contain unique elements, ensuring no repeated values."
   ]
  },
  {
   "cell_type": "markdown",
   "metadata": {},
   "source": [
    "14. How does the “in” keyword work differently for lists and dictionaries?"
   ]
  },
  {
   "cell_type": "markdown",
   "metadata": {},
   "source": [
    " In **lists**, the \"in\" keyword checks if an element is present in the list by scanning through the list's elements one by one. \n",
    " \n",
    " In **dictionaries**, the \"in\" keyword checks if a specific key is present in the dictionary. The check for keys in a dictionary is faster, with an average time complexity of O(1) due to the underlying hash table implementation."
   ]
  },
  {
   "cell_type": "markdown",
   "metadata": {},
   "source": [
    "15. Can you modify the elements of a tuple? Explain why or why not."
   ]
  },
  {
   "cell_type": "markdown",
   "metadata": {},
   "source": [
    "No, you cannot modify the elements of a tuple because tuples are immutable. This immutability is intentional to ensure that the data cannot be accidentally modified, providing integrity and reliability. If you need a mutable collection, a list is a better choice."
   ]
  },
  {
   "cell_type": "markdown",
   "metadata": {},
   "source": [
    "16. What is a nested dictionary, and give an example of its use case?"
   ]
  },
  {
   "cell_type": "markdown",
   "metadata": {},
   "source": [
    " A nested dictionary is a dictionary where the values are other dictionaries. It allows you to represent more complex data structures where you need to store hierarchical information. A use case might be storing data about a company, where each employee has a dictionary of personal details."
   ]
  },
  {
   "cell_type": "code",
   "execution_count": 33,
   "metadata": {},
   "outputs": [
    {
     "name": "stdout",
     "output_type": "stream",
     "text": [
      "{'name': 'John', 'age': 30, 'department': 'Sales'}\n"
     ]
    }
   ],
   "source": [
    "company = {\n",
    "    \"employee1\": {\"name\": \"John\", \"age\": 30, \"department\": \"Sales\"},\n",
    "    \"employee2\": {\"name\": \"Jane\", \"age\": 28, \"department\": \"HR\"}\n",
    "}\n",
    "print(company[\"employee1\"]) \n"
   ]
  },
  {
   "cell_type": "markdown",
   "metadata": {},
   "source": [
    "17. Describe the time complexity of accessing elements in a dictionaryE"
   ]
  },
  {
   "cell_type": "markdown",
   "metadata": {},
   "source": [
    "The average time complexity of accessing an element in a dictionary by key is O(1), meaning it takes constant time. This is because dictionaries are implemented using hash tables, and the hash function allows for quick lookup of keys."
   ]
  },
  {
   "cell_type": "markdown",
   "metadata": {},
   "source": [
    "18. In what situations are lists preferred over dictionaries."
   ]
  },
  {
   "cell_type": "markdown",
   "metadata": {},
   "source": [
    "Lists are preferred when you need to store an ordered collection of elements that may or may not be unique, and where you will be accessing elements by their position (index) rather than by a unique key. Lists are also used when the order of insertion matters."
   ]
  },
  {
   "cell_type": "markdown",
   "metadata": {},
   "source": [
    "19. Why are dictionaries considered unordered, and how does that affect data retrieval."
   ]
  },
  {
   "cell_type": "markdown",
   "metadata": {},
   "source": [
    "20. Explain the difference between a list and a dictionary in terms of data retrieval."
   ]
  },
  {
   "cell_type": "markdown",
   "metadata": {},
   "source": [
    "- **List**: You retrieve data in a list by its index. It is ordered, meaning elements are retrieved by position.\n",
    "- **Dictionary**: You retrieve data in a dictionary by its key. It is unordered, but you can quickly access values associated with specific keys."
   ]
  },
  {
   "cell_type": "markdown",
   "metadata": {},
   "source": [
    "*Practical Questions*"
   ]
  },
  {
   "cell_type": "markdown",
   "metadata": {},
   "source": [
    "1. Write a code to create a string with your name and print it."
   ]
  },
  {
   "cell_type": "code",
   "execution_count": 2,
   "metadata": {},
   "outputs": [
    {
     "name": "stdout",
     "output_type": "stream",
     "text": [
      "Abhay\n"
     ]
    }
   ],
   "source": [
    "name = \"Abhay\"\n",
    "print(name)\n"
   ]
  },
  {
   "cell_type": "markdown",
   "metadata": {},
   "source": [
    "2. Write a code to find the length of the string \"Hello World\"."
   ]
  },
  {
   "cell_type": "code",
   "execution_count": 1,
   "metadata": {},
   "outputs": [
    {
     "name": "stdout",
     "output_type": "stream",
     "text": [
      "11\n"
     ]
    }
   ],
   "source": [
    "string = \"Hello World\"\n",
    "print(len(string))\n"
   ]
  },
  {
   "cell_type": "markdown",
   "metadata": {},
   "source": [
    "3. Write a code to slice the first 3 characters from the string \"Python Programming\"."
   ]
  },
  {
   "cell_type": "code",
   "execution_count": 3,
   "metadata": {},
   "outputs": [
    {
     "name": "stdout",
     "output_type": "stream",
     "text": [
      "11\n"
     ]
    }
   ],
   "source": [
    "string = \"Hello World\"\n",
    "print(len(string))\n"
   ]
  },
  {
   "cell_type": "markdown",
   "metadata": {},
   "source": [
    "4. Write a code to convert the string \"hello\" to uppercase."
   ]
  },
  {
   "cell_type": "code",
   "execution_count": 4,
   "metadata": {},
   "outputs": [
    {
     "name": "stdout",
     "output_type": "stream",
     "text": [
      "HELLO\n"
     ]
    }
   ],
   "source": [
    "string = \"hello\"\n",
    "print(string.upper())\n"
   ]
  },
  {
   "cell_type": "markdown",
   "metadata": {},
   "source": [
    "5. Write a code to replace the word \"apple\" with \"orange\" in the string \"I like apple\"."
   ]
  },
  {
   "cell_type": "code",
   "execution_count": 5,
   "metadata": {},
   "outputs": [
    {
     "name": "stdout",
     "output_type": "stream",
     "text": [
      "I like orange\n"
     ]
    }
   ],
   "source": [
    "string = \"I like apple\"\n",
    "print(string.replace(\"apple\", \"orange\"))\n"
   ]
  },
  {
   "cell_type": "markdown",
   "metadata": {},
   "source": [
    "6. Write a code to create a list with numbers 1 to 5 and print it."
   ]
  },
  {
   "cell_type": "code",
   "execution_count": 6,
   "metadata": {},
   "outputs": [
    {
     "name": "stdout",
     "output_type": "stream",
     "text": [
      "[1, 2, 3, 4, 5]\n"
     ]
    }
   ],
   "source": [
    "numbers = [1, 2, 3, 4, 5]\n",
    "print(numbers)\n"
   ]
  },
  {
   "cell_type": "markdown",
   "metadata": {},
   "source": [
    "7. Write a code to append the number 10 to the list [1, 2, 3, 4]."
   ]
  },
  {
   "cell_type": "code",
   "execution_count": 8,
   "metadata": {},
   "outputs": [
    {
     "name": "stdout",
     "output_type": "stream",
     "text": [
      "[1, 2, 3, 4, 10]\n"
     ]
    }
   ],
   "source": [
    "numbers = [1, 2, 3, 4]\n",
    "numbers.append(10)\n",
    "print(numbers)\n"
   ]
  },
  {
   "cell_type": "markdown",
   "metadata": {},
   "source": [
    "8. Write a code to remove the number 3 from the list [1, 2, 3, 4, 5]."
   ]
  },
  {
   "cell_type": "code",
   "execution_count": 9,
   "metadata": {},
   "outputs": [
    {
     "name": "stdout",
     "output_type": "stream",
     "text": [
      "[1, 2, 4, 5]\n"
     ]
    }
   ],
   "source": [
    "numbers = [1, 2, 3, 4, 5]\n",
    "numbers.remove(3)\n",
    "print(numbers)\n"
   ]
  },
  {
   "cell_type": "markdown",
   "metadata": {},
   "source": [
    "9. Write a code to access the second element in the list ['a', 'b', 'c', 'd']."
   ]
  },
  {
   "cell_type": "code",
   "execution_count": 10,
   "metadata": {},
   "outputs": [
    {
     "name": "stdout",
     "output_type": "stream",
     "text": [
      "b\n"
     ]
    }
   ],
   "source": [
    "letters = ['a', 'b', 'c', 'd']\n",
    "print(letters[1])\n"
   ]
  },
  {
   "cell_type": "markdown",
   "metadata": {},
   "source": [
    "10. Write a code to reverse the list [10, 20, 30, 40, 50]."
   ]
  },
  {
   "cell_type": "code",
   "execution_count": 12,
   "metadata": {},
   "outputs": [
    {
     "name": "stdout",
     "output_type": "stream",
     "text": [
      "[50, 40, 30, 20, 10]\n"
     ]
    }
   ],
   "source": [
    "numbers = [10, 20, 30, 40, 50]\n",
    "numbers.reverse()\n",
    "print(numbers)\n"
   ]
  },
  {
   "cell_type": "markdown",
   "metadata": {},
   "source": [
    "11. Write a code to create a tuple with the elements 10, 20, 30 and print it."
   ]
  },
  {
   "cell_type": "code",
   "execution_count": 13,
   "metadata": {},
   "outputs": [
    {
     "name": "stdout",
     "output_type": "stream",
     "text": [
      "(10, 20, 30)\n"
     ]
    }
   ],
   "source": [
    "my_tuple = (10, 20, 30)\n",
    "print(my_tuple)\n"
   ]
  },
  {
   "cell_type": "markdown",
   "metadata": {},
   "source": [
    "12. Write a code to access the first element of the tuple ('apple', 'banana', 'cherry')."
   ]
  },
  {
   "cell_type": "code",
   "execution_count": 14,
   "metadata": {},
   "outputs": [
    {
     "name": "stdout",
     "output_type": "stream",
     "text": [
      "apple\n"
     ]
    }
   ],
   "source": [
    "my_tuple = ('apple', 'banana', 'cherry')\n",
    "print(my_tuple[0])\n"
   ]
  },
  {
   "cell_type": "markdown",
   "metadata": {},
   "source": [
    "13. Write a code to count how many times the number 2 appears in the tuple (1, 2, 3, 2, 4, 2)."
   ]
  },
  {
   "cell_type": "code",
   "execution_count": 15,
   "metadata": {},
   "outputs": [
    {
     "name": "stdout",
     "output_type": "stream",
     "text": [
      "3\n"
     ]
    }
   ],
   "source": [
    "my_tuple = (1, 2, 3, 2, 4, 2)\n",
    "print(my_tuple.count(2))\n"
   ]
  },
  {
   "cell_type": "markdown",
   "metadata": {},
   "source": [
    "14. Write a code to find the index of the element \"cat\" in the tuple ('dog', 'cat', 'rabbit')."
   ]
  },
  {
   "cell_type": "code",
   "execution_count": 16,
   "metadata": {},
   "outputs": [
    {
     "name": "stdout",
     "output_type": "stream",
     "text": [
      "1\n"
     ]
    }
   ],
   "source": [
    "my_tuple = ('dog', 'cat', 'rabbit')\n",
    "print(my_tuple.index('cat'))\n"
   ]
  },
  {
   "cell_type": "markdown",
   "metadata": {},
   "source": [
    "15. Write a code to check if the element \"banana\" is in the tuple ('apple', 'orange', 'banana')."
   ]
  },
  {
   "cell_type": "code",
   "execution_count": 17,
   "metadata": {},
   "outputs": [
    {
     "name": "stdout",
     "output_type": "stream",
     "text": [
      "True\n"
     ]
    }
   ],
   "source": [
    "my_tuple = ('apple', 'orange', 'banana')\n",
    "print('banana' in my_tuple)\n"
   ]
  },
  {
   "cell_type": "markdown",
   "metadata": {},
   "source": [
    "16. Write a code to create a set with the elements 1, 2, 3, 4, 5 and print it."
   ]
  },
  {
   "cell_type": "code",
   "execution_count": 18,
   "metadata": {},
   "outputs": [
    {
     "name": "stdout",
     "output_type": "stream",
     "text": [
      "{1, 2, 3, 4, 5}\n"
     ]
    }
   ],
   "source": [
    "my_set = {1, 2, 3, 4, 5}\n",
    "print(my_set)\n"
   ]
  },
  {
   "cell_type": "markdown",
   "metadata": {},
   "source": [
    "17. Write a code to add the element 6 to the set {1, 2, 3, 4}."
   ]
  },
  {
   "cell_type": "code",
   "execution_count": 19,
   "metadata": {},
   "outputs": [
    {
     "name": "stdout",
     "output_type": "stream",
     "text": [
      "{1, 2, 3, 4, 6}\n"
     ]
    }
   ],
   "source": [
    "my_set = {1, 2, 3, 4}\n",
    "my_set.add(6)\n",
    "print(my_set)\n"
   ]
  },
  {
   "cell_type": "markdown",
   "metadata": {},
   "source": [
    "18. Write a code to create a tuple with the elements 10, 20, 30 and print it."
   ]
  },
  {
   "cell_type": "code",
   "execution_count": 20,
   "metadata": {},
   "outputs": [
    {
     "name": "stdout",
     "output_type": "stream",
     "text": [
      "(10, 20, 30)\n"
     ]
    }
   ],
   "source": [
    "my_tuple = (10, 20, 30)\n",
    "print(my_tuple)\n"
   ]
  },
  {
   "cell_type": "markdown",
   "metadata": {},
   "source": [
    "19. Write a code to access the first element of the tuple ('apple', 'banana', 'cherry')."
   ]
  },
  {
   "cell_type": "code",
   "execution_count": 21,
   "metadata": {},
   "outputs": [
    {
     "name": "stdout",
     "output_type": "stream",
     "text": [
      "apple\n"
     ]
    }
   ],
   "source": [
    "my_tuple = ('apple', 'banana', 'cherry')\n",
    "print(my_tuple[0])\n"
   ]
  },
  {
   "cell_type": "markdown",
   "metadata": {},
   "source": [
    "20. Write a code to count how many times the number 2 appears in the tuple (1, 2, 3, 2, 4, 2)."
   ]
  },
  {
   "cell_type": "code",
   "execution_count": 22,
   "metadata": {},
   "outputs": [
    {
     "name": "stdout",
     "output_type": "stream",
     "text": [
      "3\n"
     ]
    }
   ],
   "source": [
    "my_tuple = (1, 2, 3, 2, 4, 2)\n",
    "print(my_tuple.count(2))\n"
   ]
  },
  {
   "cell_type": "markdown",
   "metadata": {},
   "source": [
    "21. Write a code to find the index of the element \"cat\" in the tuple ('dog', 'cat', 'rabbit')."
   ]
  },
  {
   "cell_type": "code",
   "execution_count": 23,
   "metadata": {},
   "outputs": [
    {
     "name": "stdout",
     "output_type": "stream",
     "text": [
      "1\n"
     ]
    }
   ],
   "source": [
    "my_tuple = ('dog', 'cat', 'rabbit')\n",
    "print(my_tuple.index('cat'))\n"
   ]
  },
  {
   "cell_type": "markdown",
   "metadata": {},
   "source": [
    "22. Write a code to check if the element \"banana\" is in the tuple ('apple', 'orange', 'banana')."
   ]
  },
  {
   "cell_type": "code",
   "execution_count": 24,
   "metadata": {},
   "outputs": [
    {
     "name": "stdout",
     "output_type": "stream",
     "text": [
      "True\n"
     ]
    }
   ],
   "source": [
    "my_tuple = ('apple', 'orange', 'banana')\n",
    "print('banana' in my_tuple)\n"
   ]
  },
  {
   "cell_type": "markdown",
   "metadata": {},
   "source": [
    "23. Write a code to create a set with the elements 1, 2, 3, 4, 5 and print it."
   ]
  },
  {
   "cell_type": "code",
   "execution_count": 26,
   "metadata": {},
   "outputs": [
    {
     "name": "stdout",
     "output_type": "stream",
     "text": [
      "{1, 2, 3, 4, 5}\n"
     ]
    }
   ],
   "source": [
    "my_set = {1, 2, 3, 4, 5}\n",
    "print(my_set)\n"
   ]
  },
  {
   "cell_type": "markdown",
   "metadata": {},
   "source": [
    "24. Write a code to add the element 6 to the set {1, 2, 3, 4}."
   ]
  },
  {
   "cell_type": "code",
   "execution_count": 25,
   "metadata": {},
   "outputs": [
    {
     "name": "stdout",
     "output_type": "stream",
     "text": [
      "{1, 2, 3, 4, 6}\n"
     ]
    }
   ],
   "source": [
    "my_set = {1, 2, 3, 4}\n",
    "my_set.add(6)\n",
    "print(my_set)\n"
   ]
  }
 ],
 "metadata": {
  "kernelspec": {
   "display_name": "Python 3",
   "language": "python",
   "name": "python3"
  },
  "language_info": {
   "codemirror_mode": {
    "name": "ipython",
    "version": 3
   },
   "file_extension": ".py",
   "mimetype": "text/x-python",
   "name": "python",
   "nbconvert_exporter": "python",
   "pygments_lexer": "ipython3",
   "version": "3.13.1"
  }
 },
 "nbformat": 4,
 "nbformat_minor": 2
}
