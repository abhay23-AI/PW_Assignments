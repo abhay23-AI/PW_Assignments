{
 "cells": [
  {
   "cell_type": "markdown",
   "metadata": {},
   "source": [
    "## Python basics"
   ]
  },
  {
   "cell_type": "markdown",
   "metadata": {},
   "source": [
    "### Theory Questions"
   ]
  },
  {
   "cell_type": "markdown",
   "metadata": {},
   "source": [
    "1. What is Python, and why is it popular?"
   ]
  },
  {
   "cell_type": "markdown",
   "metadata": {},
   "source": [
    "It is high level,interapeted programming language.It is designed for simplicity and readability.\n",
    "\n",
    "It is popular because:-\n",
    "- Simple and Readable Syntax\n",
    "- Cross-Platform Compatibility\n",
    "- Large Community and Ecosystem\n",
    "- Support for Multiple Paradigms"
   ]
  },
  {
   "cell_type": "markdown",
   "metadata": {},
   "source": [
    "2. What is an interpreter in Python?"
   ]
  },
  {
   "cell_type": "markdown",
   "metadata": {},
   "source": [
    "An interpreter in Python is a program that executes Python code line by line. Unlike a compiler, which translates the entire source code into machine code before execution, an interpreter translates and executes the code directly, one statement at a time. This allows for interactive execution and immediate feedback during development."
   ]
  },
  {
   "cell_type": "markdown",
   "metadata": {},
   "source": [
    "3. What are pre-defined keywords in Python?"
   ]
  },
  {
   "cell_type": "markdown",
   "metadata": {},
   "source": [
    "Pre-defined keywords in Python are reserved words that have a special meaning and cannot be used as identifiers (e.g., variable names). They are part of the Python syntax and control the structure of the language. Examples include if, else, while, for, class, def, try, except, and import. These keywords are integral to Python's functionality and dictate how the code is interpreted."
   ]
  },
  {
   "cell_type": "markdown",
   "metadata": {},
   "source": [
    "4. Can keywords be used as variable names?"
   ]
  },
  {
   "cell_type": "markdown",
   "metadata": {},
   "source": [
    "No, keywords cannot be used as variable names in Python. Keywords are reserved words that have a predefined meaning in the language and are part of the syntax."
   ]
  },
  {
   "cell_type": "markdown",
   "metadata": {},
   "source": [
    "5. What is mutability in Python?"
   ]
  },
  {
   "cell_type": "markdown",
   "metadata": {},
   "source": [
    " Mutability refers to the ability of an object to be modified after it is created. Mutable objects can be changed, while immutable objects cannot."
   ]
  },
  {
   "cell_type": "markdown",
   "metadata": {},
   "source": [
    "6 Why are lists mutable, but tuples are immutable?"
   ]
  },
  {
   "cell_type": "markdown",
   "metadata": {},
   "source": [
    "Lists are designed to be flexible and allow modifications (e.g., adding/removing elements), while tuples are meant to be constant and hashable, ensuring their integrity when used as keys in dictionaries."
   ]
  },
  {
   "cell_type": "markdown",
   "metadata": {},
   "source": [
    "7. What is the difference between “==” and “is” operators in Python?"
   ]
  },
  {
   "cell_type": "markdown",
   "metadata": {},
   "source": [
    "== (Equality Operator)\n",
    "- The == operator checks if the values of two objects are equal.\n",
    "-  The == operator checks if the values of two objects are equal."
   ]
  },
  {
   "cell_type": "code",
   "execution_count": 2,
   "metadata": {},
   "outputs": [
    {
     "name": "stdout",
     "output_type": "stream",
     "text": [
      "True\n"
     ]
    }
   ],
   "source": [
    "x = [1, 2, 3]\n",
    "y = [1, 2, 3]\n",
    "\n",
    "print(x == y) "
   ]
  },
  {
   "cell_type": "markdown",
   "metadata": {},
   "source": [
    "is (Identity Operator)\n",
    "- The is operator checks if two objects are the same object in memory.\n",
    "- It compares the memory addresses of the objects to see if they refer to the same object, not just if their values are equal."
   ]
  },
  {
   "cell_type": "code",
   "execution_count": 3,
   "metadata": {},
   "outputs": [
    {
     "name": "stdout",
     "output_type": "stream",
     "text": [
      "False\n"
     ]
    }
   ],
   "source": [
    "x = [1, 2, 3]\n",
    "y = [1, 2, 3]\n",
    "\n",
    "print(x is y) "
   ]
  },
  {
   "cell_type": "markdown",
   "metadata": {},
   "source": [
    "8. What are logical operators in Python."
   ]
  },
  {
   "cell_type": "markdown",
   "metadata": {},
   "source": [
    "Logical operators in Python are used to combine conditional statements:\n",
    "\n",
    "- and: Returns True if both conditions are true.\n",
    "- or: Returns True if at least one condition is true.\n",
    "- not: Returns True if the condition is false."
   ]
  },
  {
   "cell_type": "markdown",
   "metadata": {},
   "source": [
    "9. What is type casting in Python?"
   ]
  },
  {
   "cell_type": "markdown",
   "metadata": {},
   "source": [
    "Type casting refers to converting one data type to another, like converting a string to an integer or a float to an integer."
   ]
  },
  {
   "cell_type": "markdown",
   "metadata": {},
   "source": [
    "10. What is the difference between implicit and explicit type casting?"
   ]
  },
  {
   "cell_type": "markdown",
   "metadata": {},
   "source": [
    "- Implicit casting: Automatically performed by Python when converting smaller data types to larger ones (e.g., int to float).\n",
    "- Explicit casting: Requires the user to manually convert data types using functions like int(), float(), etc."
   ]
  },
  {
   "cell_type": "markdown",
   "metadata": {},
   "source": [
    "11. What is the purpose of conditional statements in Python?"
   ]
  },
  {
   "cell_type": "markdown",
   "metadata": {},
   "source": [
    "Conditional statements allow the execution of specific blocks of code based on certain conditions (e.g., if, elif, and else)."
   ]
  },
  {
   "cell_type": "markdown",
   "metadata": {},
   "source": [
    "12. How does the elif statement work?"
   ]
  },
  {
   "cell_type": "markdown",
   "metadata": {},
   "source": [
    "elif (else if) is used to check multiple conditions sequentially. If the initial if condition is false, the elif conditions are checked in order. If none of the conditions are true, the else block is executed."
   ]
  },
  {
   "cell_type": "markdown",
   "metadata": {},
   "source": [
    "13. What is the difference between for and while loops?"
   ]
  },
  {
   "cell_type": "markdown",
   "metadata": {},
   "source": [
    "- for loop: Used for iterating over a sequence (like a list, tuple, or range).\n",
    "- while loop: Used to repeat a block of code as long as a condition is true."
   ]
  },
  {
   "cell_type": "markdown",
   "metadata": {},
   "source": [
    "14.  Describe a scenario where a while loop is more suitable than a for loop."
   ]
  },
  {
   "cell_type": "markdown",
   "metadata": {},
   "source": [
    "A while loop is more suitable when the number of iterations is not known beforehand and depends on a condition that can change during execution (e.g., reading user input until a valid response is given)."
   ]
  },
  {
   "cell_type": "markdown",
   "metadata": {},
   "source": [
    "### Practical Questions"
   ]
  },
  {
   "cell_type": "markdown",
   "metadata": {},
   "source": [
    "1. Write a Python program to print \"Hello, World!\""
   ]
  },
  {
   "cell_type": "code",
   "execution_count": 1,
   "metadata": {},
   "outputs": [
    {
     "name": "stdout",
     "output_type": "stream",
     "text": [
      "Hello, World!\n"
     ]
    }
   ],
   "source": [
    "print(\"Hello, World!\")"
   ]
  },
  {
   "cell_type": "markdown",
   "metadata": {},
   "source": [
    "2.Write a Python program that displays your name and age."
   ]
  },
  {
   "cell_type": "code",
   "execution_count": 2,
   "metadata": {},
   "outputs": [
    {
     "name": "stdout",
     "output_type": "stream",
     "text": [
      "My name is Abhay and I am 22 old\n"
     ]
    }
   ],
   "source": [
    "name=\"Abhay\"\n",
    "age=22\n",
    "\n",
    "print(f\"My name is {name} and I am {age} old\")"
   ]
  },
  {
   "cell_type": "markdown",
   "metadata": {},
   "source": [
    "3. Write code to print all the pre-defined keywords in Python using the keyword library."
   ]
  },
  {
   "cell_type": "code",
   "execution_count": 3,
   "metadata": {},
   "outputs": [
    {
     "name": "stdout",
     "output_type": "stream",
     "text": [
      "['False', 'None', 'True', 'and', 'as', 'assert', 'async', 'await', 'break', 'class', 'continue', 'def', 'del', 'elif', 'else', 'except', 'finally', 'for', 'from', 'global', 'if', 'import', 'in', 'is', 'lambda', 'nonlocal', 'not', 'or', 'pass', 'raise', 'return', 'try', 'while', 'with', 'yield']\n"
     ]
    }
   ],
   "source": [
    "import keyword\n",
    "\n",
    "print(keyword.kwlist)\n"
   ]
  },
  {
   "cell_type": "markdown",
   "metadata": {},
   "source": [
    "4. Write a program that checks if a given word is a Python keyword."
   ]
  },
  {
   "cell_type": "code",
   "execution_count": 5,
   "metadata": {},
   "outputs": [
    {
     "name": "stdout",
     "output_type": "stream",
     "text": [
      "'for' is a Python keyword.\n"
     ]
    }
   ],
   "source": [
    "import keyword\n",
    "\n",
    "\n",
    "word = input(\"Enter a word: \")\n",
    "\n",
    "if keyword.iskeyword(word):\n",
    "    print(f\"'{word}' is a Python keyword.\")\n",
    "else:\n",
    "    print(f\"'{word}' is not a Python keyword.\")\n"
   ]
  },
  {
   "cell_type": "markdown",
   "metadata": {},
   "source": [
    "5. Create a list and tuple in Python, and demonstrate how attempting to change an element works differently\n",
    "for each?"
   ]
  },
  {
   "cell_type": "code",
   "execution_count": 5,
   "metadata": {},
   "outputs": [
    {
     "name": "stdout",
     "output_type": "stream",
     "text": [
      "List after modification: [10, 2, 3, 4]\n",
      "Error while modifying tuple: 'tuple' object does not support item assignment\n"
     ]
    }
   ],
   "source": [
    "\n",
    "my_list = [1, 2, 3, 4]\n",
    "my_tuple = (1, 2, 3, 4)\n",
    "\n",
    "my_list[0] = 10\n",
    "print(f\"List after modification: {my_list}\")\n",
    "\n",
    "try:\n",
    "    my_tuple[0] = 10\n",
    "except TypeError as e:\n",
    "    print(f\"Error while modifying tuple: {e}\")\n"
   ]
  },
  {
   "cell_type": "markdown",
   "metadata": {},
   "source": [
    "6. Write a function to demonstrate the behavior of mutable and immutable arguments."
   ]
  },
  {
   "cell_type": "code",
   "execution_count": 1,
   "metadata": {},
   "outputs": [
    {
     "name": "stdout",
     "output_type": "stream",
     "text": [
      "Before modification - immutable_arg: 10, mutable_arg: [1, 2, 3]\n",
      "After modifying immutable_arg inside function: 100\n",
      "After modifying mutable_arg inside function: [1, 2, 3, 4]\n",
      "After function call - immutable_val: 10, mutable_val: [1, 2, 3, 4]\n"
     ]
    }
   ],
   "source": [
    "def demonstrate_mutability(immutable_arg, mutable_arg):\n",
    "    print(f\"Before modification - immutable_arg: {immutable_arg}, mutable_arg: {mutable_arg}\")\n",
    "    \n",
    "    immutable_arg = 100\n",
    "    print(f\"After modifying immutable_arg inside function: {immutable_arg}\")\n",
    "    \n",
    "    mutable_arg.append(4)\n",
    "    print(f\"After modifying mutable_arg inside function: {mutable_arg}\")\n",
    "\n",
    "\n",
    "immutable_val = 10\n",
    "mutable_val = [1, 2, 3]\n",
    "\n",
    "demonstrate_mutability(immutable_val, mutable_val)\n",
    "\n",
    "print(f\"After function call - immutable_val: {immutable_val}, mutable_val: {mutable_val}\")\n"
   ]
  },
  {
   "cell_type": "markdown",
   "metadata": {},
   "source": [
    "7. Write a function to demonstrate the behavior of mutable and immutable arguments."
   ]
  },
  {
   "cell_type": "code",
   "execution_count": 4,
   "metadata": {},
   "outputs": [
    {
     "name": "stdout",
     "output_type": "stream",
     "text": [
      "Before modification - immutable_arg: 10, mutable_arg: [1, 2, 3]\n",
      "After modifying immutable_arg inside function: 100\n",
      "After modifying mutable_arg inside function: [1, 2, 3, 4]\n",
      "After function call - immutable_val: 10, mutable_val: [1, 2, 3, 4]\n"
     ]
    }
   ],
   "source": [
    "def demonstrate_mutability(immutable_arg, mutable_arg):\n",
    "    print(f\"Before modification - immutable_arg: {immutable_arg}, mutable_arg: {mutable_arg}\")\n",
    "    \n",
    "    immutable_arg = 100\n",
    "    print(f\"After modifying immutable_arg inside function: {immutable_arg}\")\n",
    "    \n",
    "    mutable_arg.append(4)\n",
    "    print(f\"After modifying mutable_arg inside function: {mutable_arg}\")\n",
    "\n",
    "\n",
    "immutable_val = 10\n",
    "mutable_val = [1, 2, 3]\n",
    "\n",
    "demonstrate_mutability(immutable_val, mutable_val)\n",
    "\n",
    "print(f\"After function call - immutable_val: {immutable_val}, mutable_val: {mutable_val}\")\n"
   ]
  },
  {
   "cell_type": "markdown",
   "metadata": {},
   "source": [
    "8. Write a program to demonstrate the use of logical operators."
   ]
  },
  {
   "cell_type": "code",
   "execution_count": 5,
   "metadata": {},
   "outputs": [
    {
     "name": "stdout",
     "output_type": "stream",
     "text": [
      "x = 6, y = 8\n",
      "x > 5 and y < 10: True\n",
      "x > 5 or y > 10: True\n",
      "not (x < 5): True\n"
     ]
    }
   ],
   "source": [
    "def logical_operator(x, y):\n",
    "    print(f\"x = {x}, y = {y}\")\n",
    "    print(f\"x > 5 and y < 10: {x > 5 and y < 10}\")\n",
    "\n",
    "    print(f\"x > 5 or y > 10: {x > 5 or y > 10}\")\n",
    "\n",
    "    print(f\"not (x < 5): {not (x < 5)}\")\n",
    "    \n",
    "logical_operator(6,8)"
   ]
  },
  {
   "cell_type": "markdown",
   "metadata": {},
   "source": [
    "9. Write a Python program to convert user input from string to integer, float, and boolean types."
   ]
  },
  {
   "cell_type": "code",
   "execution_count": 12,
   "metadata": {},
   "outputs": [
    {
     "name": "stdout",
     "output_type": "stream",
     "text": [
      "The value as an integer: 4\n",
      "The value as a float: 4.0\n",
      "The value as a boolean: True\n"
     ]
    }
   ],
   "source": [
    "user_input = input(\"Enter a value: \")\n",
    "int_value = int(user_input)\n",
    "print(f\"The value as an integer: {int_value}\")\n",
    "float_value = float(user_input)\n",
    "print(f\"The value as a float: {float_value}\")\n",
    "if user_input.lower() in ['true', '1']:\n",
    "    bool_value = True\n",
    "elif user_input.lower() in ['false', '0']:\n",
    "    bool_value = False\n",
    "else:\n",
    "    bool_value = bool(user_input)\n",
    "    \n",
    "print(f\"The value as a boolean: {bool_value}\")"
   ]
  },
  {
   "cell_type": "markdown",
   "metadata": {},
   "source": [
    "10. Write code to demonstrate type casting with list elements."
   ]
  },
  {
   "cell_type": "code",
   "execution_count": 4,
   "metadata": {},
   "outputs": [
    {
     "name": "stdout",
     "output_type": "stream",
     "text": [
      "Original list: ['10', 20, '30.5', 40, '50']\n",
      "List with integers or floats: [10, 20, 30.5, 40, 50]\n",
      "List as strings: ['10', '20', '30.5', '40', '50']\n",
      "List as floats: [10.0, 20.0, 30.5, 40.0, 50.0]\n"
     ]
    }
   ],
   "source": [
    "\n",
    "mixed_list = ['10', 20, '30.5', 40, '50']\n",
    "\n",
    "int_list = [int(item) if isinstance(item, str) and item.isdigit() else float(item) if isinstance(item, str) else item for item in mixed_list]\n",
    "\n",
    "str_list = [str(item) for item in mixed_list]\n",
    "\n",
    "float_list = [float(item) for item in mixed_list]\n",
    "\n",
    "print(f\"Original list: {mixed_list}\")\n",
    "print(f\"List with integers or floats: {int_list}\")\n",
    "print(f\"List as strings: {str_list}\")\n",
    "print(f\"List as floats: {float_list}\")\n"
   ]
  },
  {
   "cell_type": "markdown",
   "metadata": {},
   "source": [
    "11. Write a program that checks if a number is positive, negative, or zero.\n"
   ]
  },
  {
   "cell_type": "code",
   "execution_count": null,
   "metadata": {},
   "outputs": [],
   "source": [
    "\n",
    "number = float(input(\"Enter a number: \"))\n",
    "\n",
    "if number > 0:\n",
    "    print(\"The number is positive.\")\n",
    "elif number < 0:\n",
    "    print(\"The number is negative.\")\n",
    "else:\n",
    "    print(\"The number is zero.\")\n"
   ]
  },
  {
   "cell_type": "markdown",
   "metadata": {},
   "source": [
    "12  Write a for loop to print numbers from 1 to 10."
   ]
  },
  {
   "cell_type": "code",
   "execution_count": 10,
   "metadata": {},
   "outputs": [
    {
     "name": "stdout",
     "output_type": "stream",
     "text": [
      "1\n",
      "2\n",
      "3\n",
      "4\n",
      "5\n",
      "6\n",
      "7\n",
      "8\n",
      "9\n",
      "10\n"
     ]
    }
   ],
   "source": [
    "for i in range(1,11):\n",
    "    print(i)"
   ]
  },
  {
   "cell_type": "markdown",
   "metadata": {},
   "source": [
    "13. Write a Python program to find the sum of all even numbers between 1 and 50."
   ]
  },
  {
   "cell_type": "code",
   "execution_count": 10,
   "metadata": {},
   "outputs": [
    {
     "name": "stdout",
     "output_type": "stream",
     "text": [
      "The sum of all even numbers between 1 and 50 is: 650\n"
     ]
    }
   ],
   "source": [
    "sum=0\n",
    "for i in range(1,51):\n",
    "    if i%2==0:\n",
    "        sum+=i\n",
    "print(f\"The sum of all even numbers between 1 and 50 is: {sum}\")"
   ]
  },
  {
   "cell_type": "markdown",
   "metadata": {},
   "source": [
    "14. Write a program to reverse a string using a while loop."
   ]
  },
  {
   "cell_type": "code",
   "execution_count": 2,
   "metadata": {},
   "outputs": [
    {
     "name": "stdout",
     "output_type": "stream",
     "text": [
      "54\n"
     ]
    }
   ],
   "source": [
    "input_str=input(\"Enter string\")\n",
    "\n",
    "reversed_string=''\n",
    "\n",
    "index=len(input_str)-1\n",
    "\n",
    "while index>=0:\n",
    "    reversed_string+=input_str[index]\n",
    "    index-=1\n",
    "print(reversed_string)\n",
    "    "
   ]
  },
  {
   "cell_type": "markdown",
   "metadata": {},
   "source": [
    "15. Write a Python program to calculate the factorial of a number provided by the user using a while loop."
   ]
  },
  {
   "cell_type": "code",
   "execution_count": 8,
   "metadata": {},
   "outputs": [
    {
     "name": "stdout",
     "output_type": "stream",
     "text": [
      "120\n"
     ]
    }
   ],
   "source": [
    "num= int(input(\"Enter a number\"))\n",
    "fact=1\n",
    "i=1\n",
    "\n",
    "\n",
    "while i <= num:\n",
    "    fact*=i\n",
    "    i=i+1\n",
    "print(fact)"
   ]
  }
 ],
 "metadata": {
  "kernelspec": {
   "display_name": "Python 3",
   "language": "python",
   "name": "python3"
  },
  "language_info": {
   "codemirror_mode": {
    "name": "ipython",
    "version": 3
   },
   "file_extension": ".py",
   "mimetype": "text/x-python",
   "name": "python",
   "nbconvert_exporter": "python",
   "pygments_lexer": "ipython3",
   "version": "3.13.1"
  }
 },
 "nbformat": 4,
 "nbformat_minor": 2
}
